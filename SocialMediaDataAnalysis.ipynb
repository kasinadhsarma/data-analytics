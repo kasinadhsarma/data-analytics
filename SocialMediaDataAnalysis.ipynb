{
  "cells": [
    {
      "cell_type": "code",
      "execution_count": 16,
      "metadata": {
        "id": "C4HZx7Gndbrh"
      },
      "outputs": [],
      "source": [
        "import pandas as pd\n",
        "\n",
        "df = pd.read_csv('/content/sample_data/twitter_result.csv')"
      ]
    },
    {
      "cell_type": "code",
      "source": [
        "# Check DataFrame shape and head\n",
        "print(df.shape)\n",
        "print(df.head())\n",
        "\n",
        "# Examine data types\n",
        "print(df.info())\n",
        "\n",
        "# Check for missing values\n",
        "print(df.isnull().sum())\n",
        "\n",
        "# Basic statistics for numerical columns\n",
        "print(df.describe())"
      ],
      "metadata": {
        "id": "YoNUmpKIdCbJ",
        "outputId": "43c4fe5f-bc26-4cb1-8e76-c974b7c6ff80",
        "colab": {
          "base_uri": "https://localhost:8080/"
        }
      },
      "execution_count": 17,
      "outputs": [
        {
          "output_type": "stream",
          "name": "stdout",
          "text": [
            "(50, 6)\n",
            "               created                                               text  \\\n",
            "0  2017-10-23 10:38:38  b'RT @NicholasRyanH: Game of Thrones tonight!!...   \n",
            "1  2017-10-23 10:38:18  b'RT @guardian: Gunpowder review \\xe2\\x80\\x93 ...   \n",
            "2  2017-10-23 10:37:50  b\"RT @monkeys_robots: #Podcast Rewind - Episod...   \n",
            "3  2017-10-23 10:37:45  b'@Eyilayoo Game of Thrones people have borrow...   \n",
            "4  2017-10-23 10:36:53  b'RT @jsleosz: Game of Thrones https://t.co/h0...   \n",
            "\n",
            "   retwc  hashtag  followers  friends  \n",
            "0    349      NaN        548      889  \n",
            "1      9      NaN       1962      906  \n",
            "2      1  Podcast         59     2270  \n",
            "3      0      NaN       1727     1984  \n",
            "4      3      NaN        554      250  \n",
            "<class 'pandas.core.frame.DataFrame'>\n",
            "RangeIndex: 50 entries, 0 to 49\n",
            "Data columns (total 6 columns):\n",
            " #   Column     Non-Null Count  Dtype \n",
            "---  ------     --------------  ----- \n",
            " 0   created    50 non-null     object\n",
            " 1   text       50 non-null     object\n",
            " 2   retwc      50 non-null     int64 \n",
            " 3   hashtag    13 non-null     object\n",
            " 4   followers  50 non-null     int64 \n",
            " 5   friends    50 non-null     int64 \n",
            "dtypes: int64(3), object(3)\n",
            "memory usage: 2.5+ KB\n",
            "None\n",
            "created       0\n",
            "text          0\n",
            "retwc         0\n",
            "hashtag      37\n",
            "followers     0\n",
            "friends       0\n",
            "dtype: int64\n",
            "             retwc     followers      friends\n",
            "count    50.000000     50.000000    50.000000\n",
            "mean    135.880000   3384.800000  1381.960000\n",
            "std     640.466209   9257.822907  2148.354063\n",
            "min       0.000000      0.000000     4.000000\n",
            "25%       0.000000    123.500000   172.250000\n",
            "50%       2.000000    545.500000   434.500000\n",
            "75%       9.000000   1463.750000  1424.000000\n",
            "max    4507.000000  57767.000000  9788.000000\n"
          ]
        }
      ]
    },
    {
      "cell_type": "code",
      "source": [
        "df.drop('hashtag', axis=1, inplace=True)\n"
      ],
      "metadata": {
        "id": "Kor48-_1envS"
      },
      "execution_count": 18,
      "outputs": []
    },
    {
      "cell_type": "code",
      "source": [
        "df.duplicated().sum()"
      ],
      "metadata": {
        "id": "_Cr7BnD_di0h",
        "outputId": "4c608eba-3be1-4bd7-e28a-2bd696c7c5b7",
        "colab": {
          "base_uri": "https://localhost:8080/"
        }
      },
      "execution_count": 19,
      "outputs": [
        {
          "output_type": "execute_result",
          "data": {
            "text/plain": [
              "0"
            ]
          },
          "metadata": {},
          "execution_count": 19
        }
      ]
    },
    {
      "cell_type": "code",
      "source": [
        "import re\n",
        "\n",
        "def remove_urls(text):\n",
        "    url_pattern = re.compile(r'https?://\\S+|www\\.\\S+')\n",
        "    return url_pattern.sub(r'', text)\n",
        "\n",
        "df['text'] = df['text'].apply(remove_urls)"
      ],
      "metadata": {
        "id": "-Wo5a0xldmu4"
      },
      "execution_count": 22,
      "outputs": []
    },
    {
      "cell_type": "code",
      "source": [
        "def clean_text(text):\n",
        "    text = re.sub(r'[^\\w\\s]', '', text)  # Remove special characters\n",
        "    text = re.sub(r'\\bRT\\b', '', text)  # Remove 'RT' (retweet indicator)\n",
        "    return text\n",
        "\n",
        "df['text'] = df['text'].apply(clean_text)\n",
        "\n"
      ],
      "metadata": {
        "id": "t-pqUCphdopo"
      },
      "execution_count": 23,
      "outputs": []
    },
    {
      "cell_type": "code",
      "source": [
        "categories = {\n",
        "    'health': ['health', 'fitness', 'workout', 'nutrition', 'wellness'],\n",
        "    'tech': ['technology', 'tech', 'gadget', 'AI', 'software', 'programming'],\n",
        "    'family': ['family', 'kids', 'children', 'parenting', 'home'],\n",
        "    'food': ['food', 'cooking', 'recipe', 'restaurant', 'cuisine'],\n",
        "    'travel': ['travel', 'vacation', 'trip', 'destination', 'adventure'],\n",
        "    'sports': ['sports', 'football', 'basketball', 'soccer', 'tennis'],\n",
        "    'entertainment': ['entertainment', 'movie', 'music', 'show', 'concert'],\n",
        "    'news': ['news', 'current events', 'politics', 'world', 'breaking'],\n",
        "    'fashion': ['fashion', 'style', 'clothing', 'beauty', 'trend'],\n",
        "    'business': ['business', 'finance', 'marketing', 'economy', 'startup']\n",
        "}"
      ],
      "metadata": {
        "id": "1k34ROX9dqsw"
      },
      "execution_count": 24,
      "outputs": []
    },
    {
      "cell_type": "code",
      "source": [
        "def categorize_tweet(text):\n",
        "    for category, keywords in categories.items():\n",
        "        if any(keyword in text.lower() for keyword in keywords):\n",
        "            return category\n",
        "    return 'other'  # If no keywords match, categorize as 'other'\n",
        "\n",
        "df['category'] = df['text'].apply(categorize_tweet)"
      ],
      "metadata": {
        "id": "MqY_fJY9d1Pg"
      },
      "execution_count": 25,
      "outputs": []
    },
    {
      "cell_type": "code",
      "source": [
        "# Group the DataFrame by category\n",
        "grouped_df = df.groupby('category')\n",
        "\n",
        "# Calculate descriptive statistics for retweet count\n",
        "retweet_stats = grouped_df['retwc'].agg(['mean', 'median', 'std', 'size'])\n",
        "print(\"Retweet Statistics by Category:\\n\", retweet_stats)\n",
        "\n",
        "# Calculate average and distribution of tweet lengths\n",
        "tweet_length_stats = grouped_df['text'].apply(lambda x: x.str.len()).agg(['mean', 'std'])\n",
        "print(\"\\nTweet Length Statistics by Category:\\n\", tweet_length_stats)\n",
        "\n"
      ],
      "metadata": {
        "id": "-7Krv4SMd3tv",
        "outputId": "dc0b2c4f-0432-4078-b9c8-3f2d750eef19",
        "colab": {
          "base_uri": "https://localhost:8080/"
        }
      },
      "execution_count": 26,
      "outputs": [
        {
          "output_type": "stream",
          "name": "stdout",
          "text": [
            "Retweet Statistics by Category:\n",
            "                      mean  median         std  size\n",
            "category                                           \n",
            "entertainment    0.000000     0.0         NaN     1\n",
            "other          138.653061     2.0  646.799993    49\n",
            "\n",
            "Tweet Length Statistics by Category:\n",
            " mean    100.400000\n",
            "std      31.318639\n",
            "Name: text, dtype: float64\n"
          ]
        }
      ]
    },
    {
      "cell_type": "code",
      "source": [
        "# Calculate average retweet count and tweet length for each category\n",
        "retweet_stats = df.groupby('category')['retwc'].agg(['mean', 'median', 'std', 'size'])\n",
        "tweet_length_stats = df.groupby('category')['text'].apply(lambda x: x.str.len().mean()).to_frame(name='mean')\n",
        "tweet_length_stats['std'] = df.groupby('category')['text'].apply(lambda x: x.str.len().std())"
      ],
      "metadata": {
        "id": "47JzWwxld6if"
      },
      "execution_count": 27,
      "outputs": []
    },
    {
      "cell_type": "code",
      "source": [
        "# Create bar charts for average retweet count and tweet length\n",
        "plt.figure(figsize=(10, 6))\n",
        "plt.bar(retweet_stats.index, retweet_stats['mean'])\n",
        "plt.xlabel('Category')\n",
        "plt.ylabel('Average Retweet Count')\n",
        "plt.title('Average Retweet Count by Category')\n",
        "plt.show()\n",
        "\n",
        "plt.figure(figsize=(10, 6))\n",
        "plt.bar(tweet_length_stats.index, tweet_length_stats['mean'])\n",
        "plt.xlabel('Category')\n",
        "plt.ylabel('Average Tweet Length')\n",
        "plt.title('Average Tweet Length by Category')\n",
        "plt.show()\n"
      ],
      "metadata": {
        "id": "15Rru_sReAKA",
        "outputId": "18f152fe-c0f4-4194-bb3c-ebe5c47cccb8",
        "colab": {
          "base_uri": "https://localhost:8080/",
          "height": 1000
        }
      },
      "execution_count": 28,
      "outputs": [
        {
          "output_type": "display_data",
          "data": {
            "text/plain": [
              "<Figure size 1000x600 with 1 Axes>"
            ],
            "image/png": "[encoded data removed]"
          },
          "metadata": {}
        },
        {
          "output_type": "display_data",
          "data": {
            "text/plain": [
              "<Figure size 1000x600 with 1 Axes>"
            ],
            "image/png": "[encoded data removed]"
          },
          "metadata": {}
        }
      ]
    },
    {
      "cell_type": "code",
      "source": [
        "import nltk\n",
        "nltk.download('vader_lexicon')"
      ],
      "metadata": {
        "id": "LOUpLw6yeELA",
        "outputId": "3c517ab8-395f-48b1-9f0c-b81a7a36e31d",
        "colab": {
          "base_uri": "https://localhost:8080/"
        }
      },
      "execution_count": 29,
      "outputs": [
        {
          "output_type": "stream",
          "name": "stderr",
          "text": [
            "[nltk_data] Downloading package vader_lexicon to /root/nltk_data...\n",
            "[nltk_data]   Package vader_lexicon is already up-to-date!\n"
          ]
        },
        {
          "output_type": "execute_result",
          "data": {
            "text/plain": [
              "True"
            ]
          },
          "metadata": {},
          "execution_count": 29
        }
      ]
    },
    {
      "cell_type": "code",
      "source": [
        "import nltk\n",
        "nltk.download('vader_lexicon')\n"
      ],
      "metadata": {
        "id": "48PBmp6qeISI",
        "outputId": "db8b6946-2baa-45f9-ec8f-7617afd015c5",
        "colab": {
          "base_uri": "https://localhost:8080/"
        }
      },
      "execution_count": 30,
      "outputs": [
        {
          "output_type": "stream",
          "name": "stderr",
          "text": [
            "[nltk_data] Downloading package vader_lexicon to /root/nltk_data...\n",
            "[nltk_data]   Package vader_lexicon is already up-to-date!\n"
          ]
        },
        {
          "output_type": "execute_result",
          "data": {
            "text/plain": [
              "True"
            ]
          },
          "metadata": {},
          "execution_count": 30
        }
      ]
    }
  ],
  "metadata": {
    "colab": {
      "name": "Welcome To Colab",
      "toc_visible": true,
      "provenance": []
    },
    "kernelspec": {
      "display_name": "Python 3",
      "name": "python3"
    }
  },
  "nbformat": 4,
  "nbformat_minor": 0
}